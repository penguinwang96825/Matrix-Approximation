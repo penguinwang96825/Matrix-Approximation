{
 "cells": [
  {
   "cell_type": "code",
   "execution_count": 1,
   "id": "626b4e4e",
   "metadata": {
    "ExecuteTime": {
     "end_time": "2021-12-22T21:15:43.078952Z",
     "start_time": "2021-12-22T21:15:42.171848Z"
    }
   },
   "outputs": [],
   "source": [
    "import torch\n",
    "import torch.nn as nn\n",
    "import pandas as pd\n",
    "import numpy as np\n",
    "import torch.nn.functional as F"
   ]
  },
  {
   "cell_type": "code",
   "execution_count": 2,
   "id": "5c1ea793",
   "metadata": {
    "ExecuteTime": {
     "end_time": "2021-12-22T21:15:43.093990Z",
     "start_time": "2021-12-22T21:15:43.079952Z"
    }
   },
   "outputs": [
    {
     "data": {
      "text/plain": [
       "'1.10.1'"
      ]
     },
     "execution_count": 2,
     "metadata": {},
     "output_type": "execute_result"
    }
   ],
   "source": [
    "torch.__version__"
   ]
  },
  {
   "cell_type": "code",
   "execution_count": 3,
   "id": "013e3e98",
   "metadata": {
    "ExecuteTime": {
     "end_time": "2021-12-22T21:15:43.125072Z",
     "start_time": "2021-12-22T21:15:43.110929Z"
    }
   },
   "outputs": [],
   "source": [
    "class SVD(nn.Module):\n",
    "    \"\"\"\n",
    "    Singular value decomposition layer\n",
    "    \n",
    "    Examples\n",
    "    --------\n",
    "    >>> A = torch.rand(126, 100, 20).to('cuda')\n",
    "    >>> U, S, V = SVD(compute_uv=True)(A)\n",
    "    >>> A_ = torch.matmul(U, torch.matmul(S, V.transpose(-1, -2)))\n",
    "    >>> print(torch.dist(A_, A))\n",
    "    \"\"\"\n",
    "    def __init__(self):\n",
    "        super(SVD, self).__init__()\n",
    "    \n",
    "    def forward(self, A):\n",
    "        \"\"\"\n",
    "        Inputs\n",
    "        ------\n",
    "        A: [b, m, n]\n",
    "        \n",
    "        Outputs\n",
    "        -------\n",
    "        U: [b, m, n]\n",
    "        S: [b, n, n]\n",
    "        V: [b, n, n]\n",
    "        \"\"\"\n",
    "        return self.svd_(A)\n",
    "        \n",
    "    @staticmethod\n",
    "    def svd_(A):\n",
    "        \"\"\"\n",
    "        Parameters\n",
    "        ----------\n",
    "        A: torch.FloatTensor\n",
    "            A tensor of shape [b, m, n].\n",
    "\n",
    "        Returns\n",
    "        -------\n",
    "        U: [b, m, n]\n",
    "        S: [b, n, n]\n",
    "        V: [b, n, n]\n",
    "\n",
    "        References\n",
    "        ----------\n",
    "        1. https://www.youtube.com/watch?v=pSbafxDHdgE&t=205s\n",
    "        2. https://www2.math.ethz.ch/education/bachelor/lectures/hs2014/other/linalg_INFK/svdneu.pdf\n",
    "        \"\"\"\n",
    "        U, S, V = torch.svd_lowrank(A, q=A.shape[-1])\n",
    "        S = torch.diag_embed(S)\n",
    "        return U, S, V\n",
    "            \n",
    "def singular_value_cumsum(S):\n",
    "    \"\"\"\n",
    "    S: [b, n, n]\n",
    "        S is a diagonal matrix whose off-diagonal entries are all equal to zero.\n",
    "    \"\"\"\n",
    "    numerator = torch.diagonal(S, dim1=-2, dim2=-1).cumsum(dim=1)\n",
    "    denominator = torch.diagonal(S, dim1=-2, dim2=-1).sum(dim=1, keepdim=True)\n",
    "    return torch.div(numerator, denominator)"
   ]
  },
  {
   "cell_type": "code",
   "execution_count": 4,
   "id": "e5f2f1fe",
   "metadata": {
    "ExecuteTime": {
     "end_time": "2021-12-22T21:15:48.532925Z",
     "start_time": "2021-12-22T21:15:43.126034Z"
    }
   },
   "outputs": [],
   "source": [
    "A = torch.rand(16, 512, 10)\n",
    "A = A.to('cuda')\n",
    "model = SVD()\n",
    "model.to('cuda')\n",
    "U, S, V = model(A)"
   ]
  },
  {
   "cell_type": "code",
   "execution_count": 5,
   "id": "b4e1603c",
   "metadata": {
    "ExecuteTime": {
     "end_time": "2021-12-22T21:15:48.547883Z",
     "start_time": "2021-12-22T21:15:48.533954Z"
    }
   },
   "outputs": [
    {
     "name": "stdout",
     "output_type": "stream",
     "text": [
      "torch.Size([16, 512, 10]) torch.Size([16, 10, 10]) torch.Size([16, 10, 10])\n"
     ]
    }
   ],
   "source": [
    "print(U.shape, S.shape, V.shape)"
   ]
  },
  {
   "cell_type": "code",
   "execution_count": 6,
   "id": "e9eaf191",
   "metadata": {
    "ExecuteTime": {
     "end_time": "2021-12-22T21:15:48.594751Z",
     "start_time": "2021-12-22T21:15:48.549040Z"
    }
   },
   "outputs": [
    {
     "data": {
      "text/plain": [
       "tensor(0.0003, device='cuda:0')"
      ]
     },
     "execution_count": 6,
     "metadata": {},
     "output_type": "execute_result"
    }
   ],
   "source": [
    "A_ = torch.matmul(U, torch.matmul(S, V.transpose(-1, -2)))\n",
    "torch.dist(A_, A)"
   ]
  },
  {
   "cell_type": "code",
   "execution_count": 7,
   "id": "82e02212",
   "metadata": {},
   "outputs": [],
   "source": [
    "def compute_nu(S, k):\n",
    "    \"\"\"\n",
    "    Parameters\n",
    "    ----------\n",
    "    S: torch.tensor\n",
    "        Diagonal matrix of shape [b, n, n]\n",
    "    k: int\n",
    "        Rank estimation smaller than n.\n",
    "\n",
    "    Returns\n",
    "    -------\n",
    "    nu: torch.tensor\n",
    "        Frobenius norm ratio of shape [b, 1]\n",
    "        It can be futher used to compute the efficient rank estimate (Zhang, 2017)\n",
    "    \"\"\"\n",
    "    S_flat = torch.diagonal(S, dim1=-2, dim2=-1)\n",
    "    nu = S_flat[:, :k].norm(p=2, dim=1) / S_flat.norm(p=2, dim=1)\n",
    "    nu = nu.view(-1, 1)\n",
    "    return nu"
   ]
  },
  {
   "cell_type": "code",
   "execution_count": 8,
   "id": "7b2855c6",
   "metadata": {},
   "outputs": [
    {
     "name": "stdout",
     "output_type": "stream",
     "text": [
      "tensor([[0.8982],\n",
      "        [0.8968],\n",
      "        [0.8979],\n",
      "        [0.8969],\n",
      "        [0.8987],\n",
      "        [0.8973],\n",
      "        [0.8976],\n",
      "        [0.8984],\n",
      "        [0.8983],\n",
      "        [0.9017],\n",
      "        [0.8970],\n",
      "        [0.8970],\n",
      "        [0.8999],\n",
      "        [0.9001],\n",
      "        [0.8993],\n",
      "        [0.8935]], device='cuda:0')\n"
     ]
    }
   ],
   "source": [
    "nu = compute_nu(S, k=2)\n",
    "print(nu)"
   ]
  },
  {
   "cell_type": "code",
   "execution_count": null,
   "id": "07ee6f37",
   "metadata": {},
   "outputs": [],
   "source": []
  }
 ],
 "metadata": {
  "interpreter": {
   "hash": "7409ebea557025b1ecb6ef955240cf825010465a5171c462dea5b1f8737ec2f0"
  },
  "kernelspec": {
   "display_name": "nlp",
   "language": "python",
   "name": "python3"
  },
  "language_info": {
   "codemirror_mode": {
    "name": "ipython",
    "version": 3
   },
   "file_extension": ".py",
   "mimetype": "text/x-python",
   "name": "python",
   "nbconvert_exporter": "python",
   "pygments_lexer": "ipython3",
   "version": "3.8.12"
  },
  "toc": {
   "base_numbering": 1,
   "nav_menu": {},
   "number_sections": true,
   "sideBar": true,
   "skip_h1_title": false,
   "title_cell": "Table of Contents",
   "title_sidebar": "Contents",
   "toc_cell": false,
   "toc_position": {},
   "toc_section_display": true,
   "toc_window_display": false
  }
 },
 "nbformat": 4,
 "nbformat_minor": 5
}
