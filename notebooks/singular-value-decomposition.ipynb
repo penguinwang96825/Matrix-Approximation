{
 "cells": [
  {
   "cell_type": "code",
   "execution_count": 1,
   "id": "2480a25c",
   "metadata": {
    "ExecuteTime": {
     "end_time": "2021-12-22T02:17:11.007118Z",
     "start_time": "2021-12-22T02:17:10.150677Z"
    }
   },
   "outputs": [],
   "source": [
    "import torch\n",
    "import numpy as np\n",
    "import pandas as pd\n",
    "import torch.nn.functional as F"
   ]
  },
  {
   "cell_type": "code",
   "execution_count": 2,
   "id": "2c282b4f",
   "metadata": {
    "ExecuteTime": {
     "end_time": "2021-12-22T02:17:11.022328Z",
     "start_time": "2021-12-22T02:17:11.007582Z"
    }
   },
   "outputs": [
    {
     "data": {
      "text/plain": [
       "'1.10.1'"
      ]
     },
     "execution_count": 2,
     "metadata": {},
     "output_type": "execute_result"
    }
   ],
   "source": [
    "torch.__version__"
   ]
  },
  {
   "cell_type": "code",
   "execution_count": 3,
   "id": "0db42879",
   "metadata": {
    "ExecuteTime": {
     "end_time": "2021-12-22T02:17:11.038165Z",
     "start_time": "2021-12-22T02:17:11.024061Z"
    }
   },
   "outputs": [],
   "source": [
    "def svd(A):\n",
    "    \"\"\"\n",
    "    Parameters\n",
    "    ----------\n",
    "    A: torch.FloatTensor\n",
    "        A tensor of shape [b, m, n].\n",
    "    \n",
    "    Returns\n",
    "    -------\n",
    "    U: [b, m, n]\n",
    "    S: [b, n, n]\n",
    "    V: [b, n, n]\n",
    "    \n",
    "    References\n",
    "    ----------\n",
    "    1. https://www.youtube.com/watch?v=pSbafxDHdgE&t=205s\n",
    "    2. https://www2.math.ethz.ch/education/bachelor/lectures/hs2014/other/linalg_INFK/svdneu.pdf\n",
    "    \"\"\"\n",
    "    ATA = torch.matmul(A.transpose(-1, -2), A)\n",
    "    lv, vv = torch.linalg.eig(ATA)\n",
    "    lv = lv.real\n",
    "    vv = vv.real\n",
    "    V = F.normalize(vv, dim=1)\n",
    "    S = torch.diag_embed(torch.sqrt(lv))\n",
    "    U = torch.matmul(torch.matmul(A, V), torch.inverse(S))\n",
    "    # A_ = torch.matmul(U, torch.matmul(S, V.transpose(-1, -2)))\n",
    "    # torch.dist(A_, A)\n",
    "    return U, S, V"
   ]
  },
  {
   "cell_type": "code",
   "execution_count": 4,
   "id": "e0ba5d2c",
   "metadata": {
    "ExecuteTime": {
     "end_time": "2021-12-22T02:17:11.054105Z",
     "start_time": "2021-12-22T02:17:11.039155Z"
    }
   },
   "outputs": [],
   "source": [
    "A = torch.randn(10, 4, 3)\n",
    "U, S, V = svd(A)"
   ]
  },
  {
   "cell_type": "code",
   "execution_count": 5,
   "id": "0f3667c7",
   "metadata": {
    "ExecuteTime": {
     "end_time": "2021-12-22T02:17:11.069065Z",
     "start_time": "2021-12-22T02:17:11.055103Z"
    }
   },
   "outputs": [
    {
     "data": {
      "text/plain": [
       "(torch.Size([10, 4, 3]), torch.Size([10, 3, 3]), torch.Size([10, 3, 3]))"
      ]
     },
     "execution_count": 5,
     "metadata": {},
     "output_type": "execute_result"
    }
   ],
   "source": [
    "U.shape, S.shape, V.shape"
   ]
  },
  {
   "cell_type": "code",
   "execution_count": 6,
   "id": "086f55c0",
   "metadata": {
    "ExecuteTime": {
     "end_time": "2021-12-22T02:17:11.084026Z",
     "start_time": "2021-12-22T02:17:11.070072Z"
    }
   },
   "outputs": [
    {
     "data": {
      "text/plain": [
       "tensor(2.1643e-06)"
      ]
     },
     "execution_count": 6,
     "metadata": {},
     "output_type": "execute_result"
    }
   ],
   "source": [
    "A_ = torch.matmul(U, torch.matmul(S, V.transpose(-1, -2)))\n",
    "torch.dist(A_, A)"
   ]
  },
  {
   "cell_type": "code",
   "execution_count": null,
   "id": "25f58b4a",
   "metadata": {},
   "outputs": [],
   "source": []
  }
 ],
 "metadata": {
  "kernelspec": {
   "display_name": "nlp",
   "language": "python",
   "name": "nlp"
  },
  "language_info": {
   "codemirror_mode": {
    "name": "ipython",
    "version": 3
   },
   "file_extension": ".py",
   "mimetype": "text/x-python",
   "name": "python",
   "nbconvert_exporter": "python",
   "pygments_lexer": "ipython3",
   "version": "3.8.12"
  },
  "toc": {
   "base_numbering": 1,
   "nav_menu": {},
   "number_sections": true,
   "sideBar": true,
   "skip_h1_title": false,
   "title_cell": "Table of Contents",
   "title_sidebar": "Contents",
   "toc_cell": false,
   "toc_position": {},
   "toc_section_display": true,
   "toc_window_display": true
  }
 },
 "nbformat": 4,
 "nbformat_minor": 5
}
