{
 "cells": [
  {
   "cell_type": "code",
   "execution_count": 1,
   "id": "73bcf8a1",
   "metadata": {
    "ExecuteTime": {
     "end_time": "2021-12-24T17:04:35.351337Z",
     "start_time": "2021-12-24T17:04:33.899827Z"
    }
   },
   "outputs": [],
   "source": [
    "import torch\n",
    "import numpy as np\n",
    "import pandas as pd\n",
    "import torch.nn as nn\n",
    "import torch.nn.functional as F\n",
    "import matplotlib.pyplot as plt\n",
    "from tqdm.auto import tqdm"
   ]
  },
  {
   "cell_type": "code",
   "execution_count": 2,
   "id": "9099ffd9",
   "metadata": {
    "ExecuteTime": {
     "end_time": "2021-12-24T17:04:35.357173Z",
     "start_time": "2021-12-24T17:04:35.352299Z"
    }
   },
   "outputs": [],
   "source": [
    "def svd(A):\n",
    "    \"\"\"\n",
    "    Parameters\n",
    "    ----------\n",
    "    A: torch.FloatTensor\n",
    "        A tensor of shape [b, m, n].\n",
    "    \n",
    "    Returns\n",
    "    -------\n",
    "    U: [b, m, n]\n",
    "    S: [b, n, n]\n",
    "    V: [b, n, n]\n",
    "    \n",
    "    References\n",
    "    ----------\n",
    "    1. https://www.youtube.com/watch?v=pSbafxDHdgE&t=205s\n",
    "    2. https://www2.math.ethz.ch/education/bachelor/lectures/hs2014/other/linalg_INFK/svdneu.pdf\n",
    "    \"\"\"\n",
    "    ATA = torch.matmul(A.transpose(-1, -2), A)\n",
    "    lv, vv = torch.linalg.eig(ATA)\n",
    "    lv = lv.real\n",
    "    vv = vv.real\n",
    "    V = F.normalize(vv, dim=1)\n",
    "    S = torch.diag_embed(torch.sqrt(lv))\n",
    "    U = torch.matmul(torch.matmul(A, V), torch.inverse(S))\n",
    "    return U, S, V"
   ]
  },
  {
   "cell_type": "code",
   "execution_count": 3,
   "id": "03fbee6c",
   "metadata": {
    "ExecuteTime": {
     "end_time": "2021-12-24T17:04:35.367819Z",
     "start_time": "2021-12-24T17:04:35.359103Z"
    }
   },
   "outputs": [],
   "source": [
    "A = torch.randn(1000, 4, 3)\n",
    "U, S, V = svd(A)"
   ]
  },
  {
   "cell_type": "code",
   "execution_count": 4,
   "id": "10b88590",
   "metadata": {
    "ExecuteTime": {
     "end_time": "2021-12-24T17:04:35.375627Z",
     "start_time": "2021-12-24T17:04:35.368795Z"
    }
   },
   "outputs": [
    {
     "data": {
      "text/plain": [
       "tensor(2.7065e-05)"
      ]
     },
     "execution_count": 4,
     "metadata": {},
     "output_type": "execute_result"
    }
   ],
   "source": [
    "A_ = torch.matmul(U, torch.matmul(S, V.transpose(-1, -2)))\n",
    "torch.dist(A_, A)"
   ]
  },
  {
   "cell_type": "code",
   "execution_count": 5,
   "id": "448773e4",
   "metadata": {
    "ExecuteTime": {
     "end_time": "2021-12-24T17:04:35.380507Z",
     "start_time": "2021-12-24T17:04:35.376603Z"
    }
   },
   "outputs": [],
   "source": [
    "import torch.utils.data as torch_data\n",
    "import torch.optim as optim"
   ]
  },
  {
   "cell_type": "code",
   "execution_count": 6,
   "id": "98d52022",
   "metadata": {
    "ExecuteTime": {
     "end_time": "2021-12-24T17:04:35.386363Z",
     "start_time": "2021-12-24T17:04:35.381483Z"
    }
   },
   "outputs": [],
   "source": [
    "class SvdDataset(torch_data.Dataset):\n",
    "    \n",
    "    def __init__(self, num_samples=1000, m=512, n=10, k=2):\n",
    "        self.num_samples = num_samples\n",
    "        self.m = m\n",
    "        self.n = n\n",
    "        self.k = k\n",
    "        \n",
    "        self.A = torch.randn(num_samples, m, n)\n",
    "        self.U, _, _ = svd(self.A)\n",
    "    \n",
    "    def __len__(self):\n",
    "        return self.num_samples\n",
    "    \n",
    "    def __getitem__(self, index):\n",
    "        input_ = self.A[index]\n",
    "        output_ = self.U[index, :, :self.k]\n",
    "        return {\n",
    "            'input': input_, \n",
    "            'output': output_\n",
    "        }"
   ]
  },
  {
   "cell_type": "code",
   "execution_count": 7,
   "id": "cef5645a",
   "metadata": {
    "ExecuteTime": {
     "end_time": "2021-12-24T17:04:35.459078Z",
     "start_time": "2021-12-24T17:04:35.387339Z"
    }
   },
   "outputs": [],
   "source": [
    "train_ds = SvdDataset(num_samples=1000)\n",
    "test_ds = SvdDataset(num_samples=100)"
   ]
  },
  {
   "cell_type": "code",
   "execution_count": 8,
   "id": "eab33953",
   "metadata": {
    "ExecuteTime": {
     "end_time": "2021-12-24T17:04:35.464587Z",
     "start_time": "2021-12-24T17:04:35.459712Z"
    }
   },
   "outputs": [],
   "source": [
    "batch_size = 128\n",
    "train_dl = torch_data.DataLoader(train_ds, batch_size=batch_size, shuffle=True, pin_memory=True, drop_last=True)\n",
    "test_dl = torch_data.DataLoader(test_ds, batch_size=batch_size, shuffle=False, pin_memory=True, drop_last=False)"
   ]
  },
  {
   "cell_type": "code",
   "execution_count": 9,
   "id": "8360b4e8",
   "metadata": {
    "ExecuteTime": {
     "end_time": "2021-12-24T17:04:35.472395Z",
     "start_time": "2021-12-24T17:04:35.466539Z"
    }
   },
   "outputs": [],
   "source": [
    "class DecompositionNet(nn.Module):\n",
    "    \n",
    "    def __init__(self, k, emb_dim, max_demix):\n",
    "        super(DecompositionNet, self).__init__()\n",
    "        self.k = k\n",
    "        self.emb_dim = emb_dim\n",
    "        self.max_demix = max_demix\n",
    "        \n",
    "        self.ff1 = nn.Linear(max_demix, max_demix)\n",
    "        self.ff2 = nn.Linear(max_demix, k)\n",
    "    \n",
    "    def forward(self, x):\n",
    "        # x: [batch, emb_dim, max_demix] -> [batch, emb_dim, k]\n",
    "        x = self.ff1(x)\n",
    "        x = self.ff2(torch.relu(x))\n",
    "        return x"
   ]
  },
  {
   "cell_type": "code",
   "execution_count": 10,
   "id": "d6fee822",
   "metadata": {
    "ExecuteTime": {
     "end_time": "2021-12-24T17:04:35.478251Z",
     "start_time": "2021-12-24T17:04:35.473371Z"
    }
   },
   "outputs": [],
   "source": [
    "net = DecompositionNet(k=2, emb_dim=512, max_demix=10)\n",
    "criterion = nn.MSELoss()\n",
    "optimiser = optim.Adam(net.parameters(), lr=1e-4, betas=(0.95, 0.999))"
   ]
  },
  {
   "cell_type": "code",
   "execution_count": 11,
   "id": "ae68c284",
   "metadata": {
    "ExecuteTime": {
     "end_time": "2021-12-24T17:05:06.028662Z",
     "start_time": "2021-12-24T17:04:35.479227Z"
    }
   },
   "outputs": [
    {
     "data": {
      "application/vnd.jupyter.widget-view+json": {
       "model_id": "",
       "version_major": 2,
       "version_minor": 0
      },
      "text/plain": [
       "  0%|          | 0/100 [00:00<?, ?it/s]"
      ]
     },
     "metadata": {},
     "output_type": "display_data"
    },
    {
     "name": "stdout",
     "output_type": "stream",
     "text": [
      "Finished Training\n"
     ]
    }
   ],
   "source": [
    "net.to('cuda')\n",
    "losses = []\n",
    "for epoch in tqdm(range(100), leave=False):\n",
    "    running_loss = 0.0\n",
    "    for i, data in enumerate(train_dl, 0):\n",
    "        inputs, labels = data['input'], data['output']\n",
    "        inputs, labels = inputs.to('cuda'), labels.to('cuda')\n",
    "        identities1 = torch.eye(2).reshape(1, 2, 2).repeat(batch_size, 1, 1).to('cuda')\n",
    "        identities2 = torch.eye(512).reshape(1, 512, 512).repeat(batch_size, 1, 1).to('cuda')\n",
    "\n",
    "        # zero the parameter gradients\n",
    "        optimiser.zero_grad()\n",
    "\n",
    "        # forward + backward + optimize\n",
    "        outputs = net(inputs)\n",
    "        outputs = F.normalize(outputs, p=2, dim=1)\n",
    "        loss1 = criterion(outputs, labels)\n",
    "        gs1 = torch.matmul(outputs.transpose(-1, -2), outputs)\n",
    "        loss2 = criterion(gs1, identities1)\n",
    "        gs2 = torch.matmul(outputs, outputs.transpose(-1, -2))\n",
    "        loss3 = criterion(gs2, identities2)\n",
    "        loss = loss1 + loss2 + loss3\n",
    "        loss.backward()\n",
    "        optimiser.step()\n",
    "\n",
    "        # print statistics\n",
    "        running_loss += loss.item()\n",
    "    running_loss = running_loss / len(train_dl.dataset)\n",
    "    losses.append(running_loss)\n",
    "    # print(f'[{epoch+1}] loss: {running_loss:.6f}')\n",
    "\n",
    "print('Finished Training')"
   ]
  },
  {
   "cell_type": "code",
   "execution_count": 12,
   "id": "805dff83",
   "metadata": {
    "ExecuteTime": {
     "end_time": "2021-12-24T17:05:06.155230Z",
     "start_time": "2021-12-24T17:05:06.030264Z"
    }
   },
   "outputs": [
    {
     "data": {
      "image/png": "[encoded data removed]",
      "text/plain": [
       "<Figure size 1080x216 with 1 Axes>"
      ]
     },
     "metadata": {
      "needs_background": "light"
     },
     "output_type": "display_data"
    }
   ],
   "source": [
    "plt.figure(figsize=(15, 3))\n",
    "plt.plot(losses)\n",
    "plt.grid()\n",
    "plt.show()"
   ]
  },
  {
   "cell_type": "code",
   "execution_count": 13,
   "id": "8057d691",
   "metadata": {
    "ExecuteTime": {
     "end_time": "2021-12-24T17:05:06.165965Z",
     "start_time": "2021-12-24T17:05:06.156207Z"
    }
   },
   "outputs": [
    {
     "name": "stdout",
     "output_type": "stream",
     "text": [
      "Finished Testing\n"
     ]
    }
   ],
   "source": [
    "output_vectors = []\n",
    "for i, data in enumerate(test_dl, 0):\n",
    "    inputs, labels = data['input'], data['output']\n",
    "    inputs, labels = inputs.to('cuda'), labels.to('cuda')\n",
    "\n",
    "    outputs = net(inputs)\n",
    "    outputs = F.normalize(outputs, p=2, dim=1)\n",
    "\n",
    "print('Finished Testing')"
   ]
  },
  {
   "cell_type": "code",
   "execution_count": 14,
   "id": "46ffa33b",
   "metadata": {
    "ExecuteTime": {
     "end_time": "2021-12-24T17:05:06.170845Z",
     "start_time": "2021-12-24T17:05:06.166941Z"
    }
   },
   "outputs": [
    {
     "data": {
      "text/plain": [
       "torch.Size([100, 512, 2])"
      ]
     },
     "execution_count": 14,
     "metadata": {},
     "output_type": "execute_result"
    }
   ],
   "source": [
    "outputs.shape"
   ]
  },
  {
   "cell_type": "code",
   "execution_count": 15,
   "id": "e755c8c6",
   "metadata": {
    "ExecuteTime": {
     "end_time": "2021-12-24T17:05:06.178653Z",
     "start_time": "2021-12-24T17:05:06.171823Z"
    }
   },
   "outputs": [
    {
     "name": "stdout",
     "output_type": "stream",
     "text": [
      "tensor([[ 0.0522, -0.0337],\n",
      "        [ 0.0121,  0.0337],\n",
      "        [ 0.0035,  0.0327],\n",
      "        ...,\n",
      "        [-0.0035,  0.0471],\n",
      "        [ 0.0119,  0.0300],\n",
      "        [ 0.0910, -0.0034]], device='cuda:0', grad_fn=<SelectBackward0>)\n"
     ]
    }
   ],
   "source": [
    "print(outputs[0])"
   ]
  },
  {
   "cell_type": "code",
   "execution_count": 16,
   "id": "1cdd0870",
   "metadata": {
    "ExecuteTime": {
     "end_time": "2021-12-24T17:05:06.186461Z",
     "start_time": "2021-12-24T17:05:06.179629Z"
    }
   },
   "outputs": [
    {
     "name": "stdout",
     "output_type": "stream",
     "text": [
      "tensor([[-0.0295,  0.0201],\n",
      "        [ 0.0039,  0.0528],\n",
      "        [ 0.0264, -0.0085],\n",
      "        ...,\n",
      "        [ 0.0332,  0.0193],\n",
      "        [-0.0437,  0.0018],\n",
      "        [-0.0078, -0.0031]], device='cuda:0')\n"
     ]
    }
   ],
   "source": [
    "print(labels[0])"
   ]
  },
  {
   "cell_type": "code",
   "execution_count": 17,
   "id": "5732991e",
   "metadata": {
    "ExecuteTime": {
     "end_time": "2021-12-24T17:05:06.193293Z",
     "start_time": "2021-12-24T17:05:06.187438Z"
    }
   },
   "outputs": [
    {
     "data": {
      "text/plain": [
       "tensor(-0.0223, device='cuda:0', grad_fn=<DotBackward0>)"
      ]
     },
     "execution_count": 17,
     "metadata": {},
     "output_type": "execute_result"
    }
   ],
   "source": [
    "torch.dot(outputs[0][:, 0], outputs[0][:, 1])"
   ]
  },
  {
   "cell_type": "code",
   "execution_count": 18,
   "id": "3ddc0ae2",
   "metadata": {
    "ExecuteTime": {
     "end_time": "2021-12-24T17:05:06.202077Z",
     "start_time": "2021-12-24T17:05:06.194269Z"
    }
   },
   "outputs": [
    {
     "data": {
      "text/plain": [
       "tensor(1.4715e-07, device='cuda:0')"
      ]
     },
     "execution_count": 18,
     "metadata": {},
     "output_type": "execute_result"
    }
   ],
   "source": [
    "torch.dot(labels[0][:, 0], labels[0][:, 1])"
   ]
  },
  {
   "cell_type": "code",
   "execution_count": 19,
   "id": "c30f80a6",
   "metadata": {
    "ExecuteTime": {
     "end_time": "2021-12-24T17:05:06.209722Z",
     "start_time": "2021-12-24T17:05:06.203053Z"
    }
   },
   "outputs": [
    {
     "data": {
      "text/plain": [
       "tensor(0.7473, device='cuda:0', grad_fn=<DistBackward0>)"
      ]
     },
     "execution_count": 19,
     "metadata": {},
     "output_type": "execute_result"
    }
   ],
   "source": [
    "torch.dist(torch.matmul(outputs.transpose(-1, -2), outputs), torch.eye(2).reshape(1, 2, 2).repeat(100, 1, 1).to('cuda'))"
   ]
  },
  {
   "cell_type": "code",
   "execution_count": 20,
   "id": "b0687bc3",
   "metadata": {
    "ExecuteTime": {
     "end_time": "2021-12-24T17:05:06.218495Z",
     "start_time": "2021-12-24T17:05:06.210688Z"
    }
   },
   "outputs": [
    {
     "data": {
      "text/plain": [
       "tensor(1.8751e-05, device='cuda:0')"
      ]
     },
     "execution_count": 20,
     "metadata": {},
     "output_type": "execute_result"
    }
   ],
   "source": [
    "torch.dist(torch.matmul(labels.transpose(-1, -2), labels), torch.eye(2).reshape(1, 2, 2).repeat(100, 1, 1).to('cuda'))"
   ]
  },
  {
   "cell_type": "code",
   "execution_count": null,
   "id": "7e1275ff",
   "metadata": {},
   "outputs": [],
   "source": []
  }
 ],
 "metadata": {
  "kernelspec": {
   "display_name": "nlp",
   "language": "python",
   "name": "nlp"
  },
  "language_info": {
   "codemirror_mode": {
    "name": "ipython",
    "version": 3
   },
   "file_extension": ".py",
   "mimetype": "text/x-python",
   "name": "python",
   "nbconvert_exporter": "python",
   "pygments_lexer": "ipython3",
   "version": "3.8.12"
  },
  "toc": {
   "base_numbering": 1,
   "nav_menu": {},
   "number_sections": true,
   "sideBar": true,
   "skip_h1_title": false,
   "title_cell": "Table of Contents",
   "title_sidebar": "Contents",
   "toc_cell": false,
   "toc_position": {},
   "toc_section_display": true,
   "toc_window_display": false
  }
 },
 "nbformat": 4,
 "nbformat_minor": 5
}
