{
 "cells": [
  {
   "cell_type": "code",
   "execution_count": 1,
   "id": "594c7edb",
   "metadata": {
    "ExecuteTime": {
     "end_time": "2021-12-23T16:38:55.016807Z",
     "start_time": "2021-12-23T16:38:53.124574Z"
    }
   },
   "outputs": [],
   "source": [
    "import math\n",
    "import torch\n",
    "import torch.nn as nn\n",
    "import torch.nn.functional as F\n",
    "import pandas as pd\n",
    "import numpy as np\n",
    "from tqdm.auto import tqdm\n",
    "from sklearn import metrics\n",
    "from sklearn.datasets import make_classification\n",
    "from sklearn.model_selection import train_test_split"
   ]
  },
  {
   "cell_type": "code",
   "execution_count": 2,
   "id": "da6a768a",
   "metadata": {
    "ExecuteTime": {
     "end_time": "2021-12-23T16:39:00.424102Z",
     "start_time": "2021-12-23T16:38:55.017800Z"
    }
   },
   "outputs": [],
   "source": [
    "NUM_CLASSES = 10\n",
    "X, y = make_classification(6300, 16000, n_informative=1000, n_classes=NUM_CLASSES, random_state=914)\n",
    "X = X.astype(np.float32)\n",
    "y = y.astype(np.int64)"
   ]
  },
  {
   "cell_type": "code",
   "execution_count": 3,
   "id": "2962dade",
   "metadata": {
    "ExecuteTime": {
     "end_time": "2021-12-23T16:39:00.439907Z",
     "start_time": "2021-12-23T16:39:00.425088Z"
    }
   },
   "outputs": [
    {
     "data": {
      "text/plain": [
       "array([[ 0.75105166, -0.15409301, -0.49907622, ..., -0.5336411 ,\n",
       "        -0.62046456,  0.13240224],\n",
       "       [-0.9926991 , -0.01308838, -0.7677303 , ...,  1.9629287 ,\n",
       "        -1.9373821 , -1.2822019 ],\n",
       "       [-0.90256   ,  0.36578926,  0.13826247, ...,  1.5470697 ,\n",
       "         0.17384359, -0.80612546],\n",
       "       ...,\n",
       "       [ 1.7498939 , -0.7487113 ,  0.14626776, ..., -1.1909691 ,\n",
       "        -1.5861615 , -0.5214099 ],\n",
       "       [ 0.06106601, -0.44239494,  2.2134423 , ..., -1.2444557 ,\n",
       "         0.09982967,  0.296488  ],\n",
       "       [ 0.5877269 , -0.30185723, -1.0686728 , ..., -0.5939525 ,\n",
       "         2.1231668 , -0.02211769]], dtype=float32)"
      ]
     },
     "execution_count": 3,
     "metadata": {},
     "output_type": "execute_result"
    }
   ],
   "source": [
    "X"
   ]
  },
  {
   "cell_type": "code",
   "execution_count": 4,
   "id": "b7dc143f",
   "metadata": {
    "ExecuteTime": {
     "end_time": "2021-12-23T16:39:00.455275Z",
     "start_time": "2021-12-23T16:39:00.440756Z"
    }
   },
   "outputs": [
    {
     "data": {
      "text/plain": [
       "array([8, 7, 3, ..., 1, 2, 9], dtype=int64)"
      ]
     },
     "execution_count": 4,
     "metadata": {},
     "output_type": "execute_result"
    }
   ],
   "source": [
    "y"
   ]
  },
  {
   "cell_type": "code",
   "execution_count": 5,
   "id": "c8c00b4e",
   "metadata": {
    "ExecuteTime": {
     "end_time": "2021-12-23T16:39:00.470930Z",
     "start_time": "2021-12-23T16:39:00.456267Z"
    }
   },
   "outputs": [],
   "source": [
    "def joint_different_speakers(waveforms, speakers, num_mix):\n",
    "    \"\"\"\n",
    "    Parameters\n",
    "    ----------\n",
    "    audio_files: list\n",
    "    speakers: list\n",
    "    num_mix: int\n",
    "    \"\"\"\n",
    "    mixed = []\n",
    "    for i, wav in enumerate(waveforms):\n",
    "        current_speaker = speakers[i]\n",
    "        is_different_speakers = list(map(lambda x: x!=current_speaker, speakers))\n",
    "        different_speakers_idx = [k for k, boolean in enumerate(is_different_speakers) if boolean]\n",
    "        select_idx = list(np.random.choice(different_speakers_idx, num_mix, replace=False))\n",
    "        for j in select_idx:\n",
    "            trg_wav = wav\n",
    "            itf_wav = waveforms[j]\n",
    "            trg_spk = current_speaker\n",
    "            itf_spk = speakers[j]\n",
    "            yield trg_wav, itf_wav, trg_spk, itf_spk\n",
    "\n",
    "def mix_speakers_by_snr(waveforms, speakers, num_mix, snr):\n",
    "    generator = joint_different_speakers(waveforms, speakers, num_mix)\n",
    "    mixed_data = []\n",
    "    for trg_wav, itf_wav, trg_spk, itf_spk in tqdm(generator, total=len(speakers)*num_mix):\n",
    "        # Calculate the scale to mix two speakers based on fixed SNR\n",
    "        itf_spk_power = np.mean(np.square(trg_wav)) / (10**(snr/10))\n",
    "        scale = np.sqrt(itf_spk_power / np.mean(np.square(itf_wav)))\n",
    "\n",
    "        # Mix two speakers based on given snr\n",
    "        mix_wav = trg_wav + scale * itf_wav\n",
    "\n",
    "        mixed_data.append([mix_wav, itf_spk, trg_spk])\n",
    "    return mixed_data"
   ]
  },
  {
   "cell_type": "code",
   "execution_count": 6,
   "id": "5c1e7f91",
   "metadata": {
    "ExecuteTime": {
     "end_time": "2021-12-23T16:39:15.189599Z",
     "start_time": "2021-12-23T16:39:00.471723Z"
    }
   },
   "outputs": [
    {
     "data": {
      "application/vnd.jupyter.widget-view+json": {
       "model_id": "56044527c309422ca7b9f7dc2d82805b",
       "version_major": 2,
       "version_minor": 0
      },
      "text/plain": [
       "  0%|          | 0/63000 [00:00<?, ?it/s]"
      ]
     },
     "metadata": {},
     "output_type": "display_data"
    }
   ],
   "source": [
    "X_mixed_data = mix_speakers_by_snr(X, y, num_mix=10, snr=5)\n",
    "mix_wavs = np.stack([data[0] for data in X_mixed_data])\n",
    "itf_spks = np.stack([data[1] for data in X_mixed_data])\n",
    "trg_spks = np.stack([data[2] for data in X_mixed_data])\n",
    "X_mix_wavs = torch.tensor(mix_wavs, dtype=torch.float)\n",
    "\n",
    "y_onehot = np.zeros((len(mix_wavs), NUM_CLASSES), dtype=float)\n",
    "for idx, (itf_spk, trg_spk) in enumerate(zip(itf_spks, trg_spks)):\n",
    "    y_onehot[idx, itf_spk] = 1\n",
    "    y_onehot[idx, trg_spk] = 1\n",
    "y_onehot = torch.from_numpy(y_onehot)"
   ]
  },
  {
   "cell_type": "code",
   "execution_count": 7,
   "id": "88b21cd9",
   "metadata": {
    "ExecuteTime": {
     "end_time": "2021-12-23T16:39:15.531220Z",
     "start_time": "2021-12-23T16:39:15.190595Z"
    }
   },
   "outputs": [],
   "source": [
    "X_train, X_test, y_train, y_test = train_test_split(X_mix_wavs, y_onehot, test_size=0.2, random_state=914)"
   ]
  },
  {
   "cell_type": "code",
   "execution_count": 8,
   "id": "3619cdbc",
   "metadata": {
    "ExecuteTime": {
     "end_time": "2021-12-23T16:39:15.546318Z",
     "start_time": "2021-12-23T16:39:15.532184Z"
    }
   },
   "outputs": [],
   "source": [
    "class SVD(nn.Module):\n",
    "    \"\"\"\n",
    "    Singular value decomposition layer\n",
    "    \n",
    "    Examples\n",
    "    --------\n",
    "    >>> A = torch.rand(126, 100, 20).to('cuda')\n",
    "    >>> U, S, V = SVD(compute_uv=True)(A)\n",
    "    >>> A_ = torch.matmul(U, torch.matmul(S, V.transpose(-1, -2)))\n",
    "    >>> print(torch.dist(A_, A))\n",
    "    \"\"\"\n",
    "    def __init__(self):\n",
    "        super(SVD, self).__init__()\n",
    "    \n",
    "    def forward(self, A):\n",
    "        \"\"\"\n",
    "        Inputs\n",
    "        ------\n",
    "        A: [b, m, n]\n",
    "        \n",
    "        Outputs\n",
    "        -------\n",
    "        U: [b, m, n]\n",
    "        S: [b, n, n]\n",
    "        V: [b, n, n]\n",
    "        \"\"\"\n",
    "        return self.svd_(A)\n",
    "        \n",
    "    @staticmethod\n",
    "    def svd_(A):\n",
    "        \"\"\"\n",
    "        Parameters\n",
    "        ----------\n",
    "        A: torch.FloatTensor\n",
    "            A tensor of shape [b, m, n].\n",
    "\n",
    "        Returns\n",
    "        -------\n",
    "        U: [b, m, n]\n",
    "        S: [b, n, n]\n",
    "        V: [b, n, n]\n",
    "\n",
    "        References\n",
    "        ----------\n",
    "        1. https://www.youtube.com/watch?v=pSbafxDHdgE&t=205s\n",
    "        2. https://www2.math.ethz.ch/education/bachelor/lectures/hs2014/other/linalg_INFK/svdneu.pdf\n",
    "        \"\"\"\n",
    "        ATA = torch.matmul(A.transpose(-1, -2), A)\n",
    "        lv, vv = torch.linalg.eig(ATA)\n",
    "        lv = lv.real\n",
    "        vv = vv.real\n",
    "        V = F.normalize(vv, dim=1)\n",
    "        S = torch.diag_embed(torch.sqrt(lv))\n",
    "        U = torch.matmul(torch.matmul(A, V), torch.inverse(S))\n",
    "        return U, S, V"
   ]
  },
  {
   "cell_type": "code",
   "execution_count": 9,
   "id": "6b5064c1",
   "metadata": {
    "ExecuteTime": {
     "end_time": "2021-12-23T16:39:15.561476Z",
     "start_time": "2021-12-23T16:39:15.548312Z"
    }
   },
   "outputs": [],
   "source": [
    "class DemixingNet(nn.Module):\n",
    "    \n",
    "    def __init__(self):\n",
    "        super(DemixingNet, self).__init__()\n",
    "        # self.conv = SincConv(in_channels=1, out_channels=20, kernel_size=11)\n",
    "        self.ff1 = nn.Linear(16000, 100)\n",
    "        self.ff2 = nn.Linear(100, 10)\n",
    "        \n",
    "    def forward(self, wavs):\n",
    "        x = self.ff1(wavs)\n",
    "        x = self.ff2(F.relu(x, inplace=True))\n",
    "        return x"
   ]
  },
  {
   "cell_type": "code",
   "execution_count": 10,
   "id": "74c89d4b",
   "metadata": {
    "ExecuteTime": {
     "end_time": "2021-12-23T16:39:15.577415Z",
     "start_time": "2021-12-23T16:39:15.562453Z"
    }
   },
   "outputs": [
    {
     "data": {
      "text/plain": [
       "(torch.Size([50400, 16000]), torch.Size([12600, 16000]))"
      ]
     },
     "execution_count": 10,
     "metadata": {},
     "output_type": "execute_result"
    }
   ],
   "source": [
    "X_train.shape, X_test.shape"
   ]
  },
  {
   "cell_type": "code",
   "execution_count": 11,
   "id": "77863d3e",
   "metadata": {
    "ExecuteTime": {
     "end_time": "2021-12-23T16:39:28.314161Z",
     "start_time": "2021-12-23T16:39:15.578412Z"
    }
   },
   "outputs": [
    {
     "name": "stdout",
     "output_type": "stream",
     "text": [
      "Loss: 1.0450\n",
      "Loss: 0.9906\n",
      "Loss: 0.9517\n",
      "Loss: 0.9229\n",
      "Loss: 0.9005\n",
      "Loss: 0.8822\n",
      "Loss: 0.8666\n",
      "Loss: 0.8528\n",
      "Loss: 0.8404\n",
      "Loss: 0.8291\n",
      "Loss: 0.8185\n",
      "Loss: 0.8088\n",
      "Loss: 0.7996\n",
      "Loss: 0.7910\n",
      "Loss: 0.7830\n",
      "Loss: 0.7754\n",
      "Loss: 0.7683\n",
      "Loss: 0.7616\n",
      "Loss: 0.7553\n",
      "Loss: 0.7494\n"
     ]
    }
   ],
   "source": [
    "import torch.optim as optim\n",
    "\n",
    "model = DemixingNet()\n",
    "criterion = nn.BCEWithLogitsLoss()\n",
    "optimiser = optim.SGD(model.parameters(), lr=1e-3)\n",
    "\n",
    "for epoch in range(20):\n",
    "    optimiser.zero_grad()\n",
    "    output = model(X_train)\n",
    "    loss = criterion(output, y_train)\n",
    "    loss.backward()\n",
    "    optimiser.step()\n",
    "    print(f'Loss: {loss.item():.4f}')"
   ]
  },
  {
   "cell_type": "code",
   "execution_count": 14,
   "id": "6c34cc1f",
   "metadata": {
    "ExecuteTime": {
     "end_time": "2021-12-23T16:39:28.438902Z",
     "start_time": "2021-12-23T16:39:28.424765Z"
    }
   },
   "outputs": [],
   "source": [
    "def hamming_score(y_true, y_pred, normalize=True, sample_weight=None):\n",
    "    '''\n",
    "    Compute the Hamming score (a.k.a. label-based accuracy) for the multi-label case\n",
    "    https://stackoverflow.com/q/32239577/395857\n",
    "    '''\n",
    "    acc_list = []\n",
    "    for i in range(y_true.shape[0]):\n",
    "        set_true = set( np.where(y_true[i])[0] )\n",
    "        set_pred = set( np.where(y_pred[i])[0] )\n",
    "        tmp_a = None\n",
    "        if len(set_true) == 0 and len(set_pred) == 0:\n",
    "            tmp_a = 1\n",
    "        else:\n",
    "            tmp_a = len(set_true.intersection(set_pred))/\\\n",
    "                    float( len(set_true.union(set_pred)) )\n",
    "        acc_list.append(tmp_a)\n",
    "    return np.mean(acc_list)"
   ]
  },
  {
   "cell_type": "code",
   "execution_count": 17,
   "id": "45cd586c",
   "metadata": {
    "ExecuteTime": {
     "end_time": "2021-12-23T16:53:44.955401Z",
     "start_time": "2021-12-23T16:53:44.285766Z"
    }
   },
   "outputs": [
    {
     "name": "stdout",
     "output_type": "stream",
     "text": [
      "0.16210112748803224\n",
      "0.004563492063492064\n"
     ]
    }
   ],
   "source": [
    "y_hat = model(X_train)\n",
    "y_hat = torch.sigmoid(y_hat)\n",
    "y_hat = y_hat.detach().numpy()\n",
    "y_pred = (y_hat >= 0.5).astype(int)\n",
    "print(hamming_score(y_train.numpy(), y_pred))\n",
    "print(metrics.accuracy_score(y_train.numpy(), y_pred, normalize=True, sample_weight=None))"
   ]
  },
  {
   "cell_type": "code",
   "execution_count": 18,
   "id": "ad59b20e",
   "metadata": {
    "ExecuteTime": {
     "end_time": "2021-12-23T16:54:13.132450Z",
     "start_time": "2021-12-23T16:54:12.932702Z"
    }
   },
   "outputs": [
    {
     "name": "stdout",
     "output_type": "stream",
     "text": [
      "0.16174864575459813\n",
      "0.004126984126984127\n"
     ]
    }
   ],
   "source": [
    "y_hat = model(X_test)\n",
    "y_hat = torch.sigmoid(y_hat)\n",
    "y_hat = y_hat.detach().numpy()\n",
    "y_pred = (y_hat >= 0.5).astype(int)\n",
    "print(hamming_score(y_test.numpy(), y_pred))\n",
    "print(metrics.accuracy_score(y_test.numpy(), y_pred, normalize=True, sample_weight=None))"
   ]
  },
  {
   "cell_type": "code",
   "execution_count": null,
   "id": "9fa315f5",
   "metadata": {},
   "outputs": [],
   "source": []
  }
 ],
 "metadata": {
  "kernelspec": {
   "display_name": "nlp",
   "language": "python",
   "name": "nlp"
  },
  "language_info": {
   "codemirror_mode": {
    "name": "ipython",
    "version": 3
   },
   "file_extension": ".py",
   "mimetype": "text/x-python",
   "name": "python",
   "nbconvert_exporter": "python",
   "pygments_lexer": "ipython3",
   "version": "3.8.12"
  },
  "toc": {
   "base_numbering": 1,
   "nav_menu": {},
   "number_sections": true,
   "sideBar": true,
   "skip_h1_title": false,
   "title_cell": "Table of Contents",
   "title_sidebar": "Contents",
   "toc_cell": false,
   "toc_position": {},
   "toc_section_display": true,
   "toc_window_display": false
  }
 },
 "nbformat": 4,
 "nbformat_minor": 5
}
