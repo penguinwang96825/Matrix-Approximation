{
 "cells": [
  {
   "cell_type": "code",
   "execution_count": 1,
   "id": "b7e27427",
   "metadata": {
    "ExecuteTime": {
     "end_time": "2021-12-20T23:18:34.152155Z",
     "start_time": "2021-12-20T23:18:33.228204Z"
    }
   },
   "outputs": [],
   "source": [
    "import torch\n",
    "import torch.nn as nn\n",
    "import pandas as pd\n",
    "import numpy as np"
   ]
  },
  {
   "cell_type": "code",
   "execution_count": 2,
   "id": "baba4541",
   "metadata": {
    "ExecuteTime": {
     "end_time": "2021-12-20T23:18:34.167297Z",
     "start_time": "2021-12-20T23:18:34.153117Z"
    }
   },
   "outputs": [
    {
     "name": "stdout",
     "output_type": "stream",
     "text": [
      "torch.Size([4, 100, 20])\n"
     ]
    }
   ],
   "source": [
    "batch_size = 4\n",
    "seq_len = 100\n",
    "feat_dim = 20\n",
    "emb_dim = 512\n",
    "num_classes = 10\n",
    "rank = 2\n",
    "\n",
    "input_ = torch.rand(batch_size, seq_len, feat_dim)\n",
    "print(input_.shape)"
   ]
  },
  {
   "cell_type": "code",
   "execution_count": 3,
   "id": "d298abbc",
   "metadata": {
    "ExecuteTime": {
     "end_time": "2021-12-20T23:18:34.182093Z",
     "start_time": "2021-12-20T23:18:34.169086Z"
    }
   },
   "outputs": [],
   "source": [
    "class MatrixFactorisation(nn.Module):\n",
    "    \n",
    "    def __init__(self, seq_len, feat_dim, emb_dim, rank, num_classes):\n",
    "        super(MatrixFactorisation, self).__init__()\n",
    "        for k, v in locals().items():\n",
    "            if k != \"self\":\n",
    "                setattr(self, k, v)\n",
    "                \n",
    "        self.linear1 = nn.Linear(feat_dim, emb_dim)\n",
    "        self.linear2 = nn.Linear(seq_len, num_classes)\n",
    "        self.ff = nn.Linear(emb_dim, num_classes)\n",
    "                \n",
    "    def forward(self, input_):\n",
    "        matrix = self.linear1(input_)\n",
    "        matrix = self.linear2(matrix.transpose(1, 2))\n",
    "        embeds = [self.ff(matrix[:, :, idx]) for idx in range(rank)]\n",
    "        embeds = [nn.Softmax(dim=1)(embed) for embed in embeds]\n",
    "        output = torch.mean(torch.stack(embeds, dim=1), dim=1)\n",
    "        return output"
   ]
  },
  {
   "cell_type": "code",
   "execution_count": 4,
   "id": "0257f80e",
   "metadata": {
    "ExecuteTime": {
     "end_time": "2021-12-20T23:18:34.198048Z",
     "start_time": "2021-12-20T23:18:34.184085Z"
    }
   },
   "outputs": [],
   "source": [
    "model = MatrixFactorisation(seq_len, feat_dim, emb_dim, rank, num_classes)\n",
    "output_ = model(input_)"
   ]
  },
  {
   "cell_type": "code",
   "execution_count": 5,
   "id": "503de5c6",
   "metadata": {
    "ExecuteTime": {
     "end_time": "2021-12-20T23:18:34.214011Z",
     "start_time": "2021-12-20T23:18:34.200042Z"
    }
   },
   "outputs": [
    {
     "data": {
      "text/plain": [
       "torch.Size([4, 10])"
      ]
     },
     "execution_count": 5,
     "metadata": {},
     "output_type": "execute_result"
    }
   ],
   "source": [
    "output_.shape"
   ]
  },
  {
   "cell_type": "code",
   "execution_count": null,
   "id": "64b7511d",
   "metadata": {},
   "outputs": [],
   "source": []
  }
 ],
 "metadata": {
  "kernelspec": {
   "display_name": "nlp",
   "language": "python",
   "name": "nlp"
  },
  "language_info": {
   "codemirror_mode": {
    "name": "ipython",
    "version": 3
   },
   "file_extension": ".py",
   "mimetype": "text/x-python",
   "name": "python",
   "nbconvert_exporter": "python",
   "pygments_lexer": "ipython3",
   "version": "3.7.3"
  }
 },
 "nbformat": 4,
 "nbformat_minor": 5
}
