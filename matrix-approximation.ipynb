{
 "cells": [
  {
   "cell_type": "code",
   "execution_count": 1,
   "id": "626b4e4e",
   "metadata": {
    "ExecuteTime": {
     "end_time": "2021-12-22T02:21:43.783348Z",
     "start_time": "2021-12-22T02:21:43.003168Z"
    }
   },
   "outputs": [],
   "source": [
    "import torch\n",
    "import torch.nn as nn\n",
    "import pandas as pd\n",
    "import numpy as np\n",
    "import torch.nn.functional as F"
   ]
  },
  {
   "cell_type": "code",
   "execution_count": 2,
   "id": "5c1ea793",
   "metadata": {
    "ExecuteTime": {
     "end_time": "2021-12-22T02:21:43.798742Z",
     "start_time": "2021-12-22T02:21:43.784240Z"
    }
   },
   "outputs": [
    {
     "data": {
      "text/plain": [
       "'1.10.1'"
      ]
     },
     "execution_count": 2,
     "metadata": {},
     "output_type": "execute_result"
    }
   ],
   "source": [
    "torch.__version__"
   ]
  },
  {
   "cell_type": "code",
   "execution_count": 3,
   "id": "36d66452",
   "metadata": {
    "ExecuteTime": {
     "end_time": "2021-12-22T02:21:43.814379Z",
     "start_time": "2021-12-22T02:21:43.799740Z"
    }
   },
   "outputs": [],
   "source": [
    "def hamming_score(y_pred, y_true):\n",
    "    out = ((y_pred & y_true).sum(dim=1) / (y_pred | y_true).sum(dim=1)).mean()\n",
    "    if out.isnan():\n",
    "        out = torch.tensor(1.0)\n",
    "    return out"
   ]
  },
  {
   "cell_type": "code",
   "execution_count": 4,
   "id": "013e3e98",
   "metadata": {
    "ExecuteTime": {
     "end_time": "2021-12-22T02:21:43.829532Z",
     "start_time": "2021-12-22T02:21:43.815358Z"
    }
   },
   "outputs": [],
   "source": [
    "class SVD(nn.Module):\n",
    "    \"\"\"\n",
    "    Singular value decomposition layer\n",
    "    \n",
    "    Examples\n",
    "    --------\n",
    "    >>> A = torch.rand(126, 100, 20).to('cuda')\n",
    "    >>> U, S, V = SVD(compute_uv=True)(A)\n",
    "    >>> A_ = torch.matmul(U, torch.matmul(S, V.transpose(-1, -2)))\n",
    "    >>> print(torch.dist(A_, A))\n",
    "    \"\"\"\n",
    "    def __init__(self):\n",
    "        super(SVD, self).__init__()\n",
    "    \n",
    "    def forward(self, A):\n",
    "        \"\"\"\n",
    "        Inputs\n",
    "        ------\n",
    "        A: [b, m, n]\n",
    "        \n",
    "        Outputs\n",
    "        -------\n",
    "        U: [b, m, n]\n",
    "        S: [b, n, n]\n",
    "        V: [b, n, n]\n",
    "        \"\"\"\n",
    "        return self.svd_(A)\n",
    "        \n",
    "    @staticmethod\n",
    "    def svd_(A):\n",
    "        \"\"\"\n",
    "        Parameters\n",
    "        ----------\n",
    "        A: torch.FloatTensor\n",
    "            A tensor of shape [b, m, n].\n",
    "\n",
    "        Returns\n",
    "        -------\n",
    "        U: [b, m, n]\n",
    "        S: [b, n, n]\n",
    "        V: [b, n, n]\n",
    "\n",
    "        References\n",
    "        ----------\n",
    "        1. https://www.youtube.com/watch?v=pSbafxDHdgE&t=205s\n",
    "        2. https://www2.math.ethz.ch/education/bachelor/lectures/hs2014/other/linalg_INFK/svdneu.pdf\n",
    "        \"\"\"\n",
    "        ATA = torch.matmul(A.transpose(-1, -2), A)\n",
    "        lv, vv = torch.linalg.eig(ATA)\n",
    "        lv = lv.real\n",
    "        vv = vv.real\n",
    "        V = F.normalize(vv, dim=1)\n",
    "        S = torch.diag_embed(torch.sqrt(lv))\n",
    "        U = torch.matmul(torch.matmul(A, V), torch.inverse(S))\n",
    "        return U, S, V\n",
    "            \n",
    "def singular_value_cumsum(S):\n",
    "    \"\"\"\n",
    "    S: [b, n, n]\n",
    "        S is a diagonal matrix whose off-diagonal entries are all equal to zero.\n",
    "    \"\"\"\n",
    "    numerator = torch.diagonal(S, dim1=-2, dim2=-1).cumsum(dim=1)\n",
    "    denominator = torch.diagonal(S, dim1=-2, dim2=-1).sum(dim=1, keepdim=True)\n",
    "    return torch.div(numerator, denominator)"
   ]
  },
  {
   "cell_type": "code",
   "execution_count": 5,
   "id": "e5f2f1fe",
   "metadata": {
    "ExecuteTime": {
     "end_time": "2021-12-22T02:21:45.375941Z",
     "start_time": "2021-12-22T02:21:43.830530Z"
    }
   },
   "outputs": [],
   "source": [
    "A = torch.rand(16, 512, 10)\n",
    "A = A.to('cuda')\n",
    "U, S, V = SVD()(A)"
   ]
  },
  {
   "cell_type": "code",
   "execution_count": 6,
   "id": "b4e1603c",
   "metadata": {
    "ExecuteTime": {
     "end_time": "2021-12-22T02:21:45.391182Z",
     "start_time": "2021-12-22T02:21:45.376968Z"
    }
   },
   "outputs": [
    {
     "name": "stdout",
     "output_type": "stream",
     "text": [
      "torch.Size([16, 512, 10]) torch.Size([16, 10, 10]) torch.Size([16, 10, 10])\n"
     ]
    }
   ],
   "source": [
    "print(U.shape, S.shape, V.shape)"
   ]
  },
  {
   "cell_type": "code",
   "execution_count": 7,
   "id": "e9eaf191",
   "metadata": {
    "ExecuteTime": {
     "end_time": "2021-12-22T02:21:45.406273Z",
     "start_time": "2021-12-22T02:21:45.392213Z"
    }
   },
   "outputs": [
    {
     "data": {
      "text/plain": [
       "tensor(0.0012, device='cuda:0')"
      ]
     },
     "execution_count": 7,
     "metadata": {},
     "output_type": "execute_result"
    }
   ],
   "source": [
    "A_ = torch.matmul(U, torch.matmul(S, V.transpose(-1, -2)))\n",
    "torch.dist(A_, A)"
   ]
  },
  {
   "cell_type": "code",
   "execution_count": null,
   "id": "a283ab4b",
   "metadata": {},
   "outputs": [],
   "source": []
  }
 ],
 "metadata": {
  "kernelspec": {
   "display_name": "nlp",
   "language": "python",
   "name": "nlp"
  },
  "language_info": {
   "codemirror_mode": {
    "name": "ipython",
    "version": 3
   },
   "file_extension": ".py",
   "mimetype": "text/x-python",
   "name": "python",
   "nbconvert_exporter": "python",
   "pygments_lexer": "ipython3",
   "version": "3.8.12"
  },
  "toc": {
   "base_numbering": 1,
   "nav_menu": {},
   "number_sections": true,
   "sideBar": true,
   "skip_h1_title": false,
   "title_cell": "Table of Contents",
   "title_sidebar": "Contents",
   "toc_cell": false,
   "toc_position": {},
   "toc_section_display": true,
   "toc_window_display": false
  }
 },
 "nbformat": 4,
 "nbformat_minor": 5
}
