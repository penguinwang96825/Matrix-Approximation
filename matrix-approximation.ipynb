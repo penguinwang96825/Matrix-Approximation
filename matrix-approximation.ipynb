{
 "cells": [
  {
   "cell_type": "code",
   "execution_count": 1,
   "id": "626b4e4e",
   "metadata": {
    "ExecuteTime": {
     "end_time": "2021-12-21T23:33:16.690421Z",
     "start_time": "2021-12-21T23:33:15.901768Z"
    }
   },
   "outputs": [],
   "source": [
    "import torch\n",
    "import torch.nn as nn\n",
    "import pandas as pd\n",
    "import numpy as np"
   ]
  },
  {
   "cell_type": "code",
   "execution_count": 2,
   "id": "5c1ea793",
   "metadata": {
    "ExecuteTime": {
     "end_time": "2021-12-21T23:33:16.706310Z",
     "start_time": "2021-12-21T23:33:16.691411Z"
    }
   },
   "outputs": [
    {
     "data": {
      "text/plain": [
       "'1.10.1'"
      ]
     },
     "execution_count": 2,
     "metadata": {},
     "output_type": "execute_result"
    }
   ],
   "source": [
    "torch.__version__"
   ]
  },
  {
   "cell_type": "code",
   "execution_count": 3,
   "id": "36d66452",
   "metadata": {
    "ExecuteTime": {
     "end_time": "2021-12-21T23:33:16.722065Z",
     "start_time": "2021-12-21T23:33:16.707316Z"
    }
   },
   "outputs": [],
   "source": [
    "def hamming_score(y_pred, y_true):\n",
    "    out = ((y_pred & y_true).sum(dim=1) / (y_pred | y_true).sum(dim=1)).mean()\n",
    "    if out.isnan():\n",
    "        out = torch.tensor(1.0)\n",
    "    return out"
   ]
  },
  {
   "cell_type": "code",
   "execution_count": 4,
   "id": "013e3e98",
   "metadata": {
    "ExecuteTime": {
     "end_time": "2021-12-21T23:33:16.737871Z",
     "start_time": "2021-12-21T23:33:16.723086Z"
    }
   },
   "outputs": [],
   "source": [
    "class SVD(nn.Module):\n",
    "    \"\"\"\n",
    "    Singular value decomposition layer\n",
    "    \n",
    "    Parameters\n",
    "    ----------\n",
    "    compute_uv: bool\n",
    "        Control whether to compute `U` and `V`.\n",
    "    \n",
    "    Examples\n",
    "    --------\n",
    "    >>> A = torch.rand(126, 100, 20).to('cuda')\n",
    "    >>> U, S, V = SVD(compute_uv=True)(A)\n",
    "    >>> A_ = torch.matmul(U, torch.matmul(S, V.transpose(-1, -2)))\n",
    "    >>> print(torch.dist(A_, A))\n",
    "    \"\"\"\n",
    "    def __init__(self, compute_uv=True):\n",
    "        super(SVD, self).__init__()\n",
    "        self.compute_uv = compute_uv\n",
    "    \n",
    "    def forward(self, A):\n",
    "        \"\"\"\n",
    "        Inputs\n",
    "        ------\n",
    "        A: [b, m, n]\n",
    "        \n",
    "        Outputs\n",
    "        -------\n",
    "        U: [b, m, n]\n",
    "        S: [b, n, n]\n",
    "        V: [b, n, n]\n",
    "        \"\"\"\n",
    "        return self.svd_(A)\n",
    "        \n",
    "    def svd_(self, A):\n",
    "        with torch.no_grad():\n",
    "            if self.compute_uv:\n",
    "                U, S, V = torch.svd(A)\n",
    "                S = torch.diag_embed(S)\n",
    "                return U, S, V\n",
    "            elif not self.compute_uv:\n",
    "                _, S, _ = torch.svd(A, compute_uv=False)\n",
    "                S = torch.diag_embed(S)\n",
    "                return S\n",
    "            \n",
    "def singular_value_cumsum(S):\n",
    "    \"\"\"\n",
    "    S: [b, n, n]\n",
    "        S is a diagonal matrix whose off-diagonal entries are all equal to zero.\n",
    "    \"\"\"\n",
    "    numerator = torch.diagonal(S, dim1=-2, dim2=-1).cumsum(dim=1)\n",
    "    denominator = torch.diagonal(S, dim1=-2, dim2=-1).sum(dim=1, keepdim=True)\n",
    "    return torch.div(numerator, denominator)"
   ]
  },
  {
   "cell_type": "code",
   "execution_count": 5,
   "id": "e5f2f1fe",
   "metadata": {
    "ExecuteTime": {
     "end_time": "2021-12-21T23:33:18.235172Z",
     "start_time": "2021-12-21T23:33:16.738898Z"
    }
   },
   "outputs": [],
   "source": [
    "A = torch.rand(4, 512, 10)\n",
    "A = A.to('cuda')\n",
    "U, S, V = SVD()(A)"
   ]
  },
  {
   "cell_type": "code",
   "execution_count": 6,
   "id": "b4e1603c",
   "metadata": {
    "ExecuteTime": {
     "end_time": "2021-12-21T23:33:18.251164Z",
     "start_time": "2021-12-21T23:33:18.236166Z"
    }
   },
   "outputs": [
    {
     "name": "stdout",
     "output_type": "stream",
     "text": [
      "torch.Size([4, 512, 10]) torch.Size([4, 10, 10]) torch.Size([4, 10, 10])\n"
     ]
    }
   ],
   "source": [
    "print(U.shape, S.shape, V.shape)"
   ]
  }
 ],
 "metadata": {
  "kernelspec": {
   "display_name": "nlp",
   "language": "python",
   "name": "nlp"
  },
  "language_info": {
   "codemirror_mode": {
    "name": "ipython",
    "version": 3
   },
   "file_extension": ".py",
   "mimetype": "text/x-python",
   "name": "python",
   "nbconvert_exporter": "python",
   "pygments_lexer": "ipython3",
   "version": "3.8.12"
  },
  "toc": {
   "base_numbering": 1,
   "nav_menu": {},
   "number_sections": true,
   "sideBar": true,
   "skip_h1_title": false,
   "title_cell": "Table of Contents",
   "title_sidebar": "Contents",
   "toc_cell": false,
   "toc_position": {},
   "toc_section_display": true,
   "toc_window_display": false
  }
 },
 "nbformat": 4,
 "nbformat_minor": 5
}
